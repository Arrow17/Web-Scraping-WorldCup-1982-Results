{
 "cells": [
  {
   "cell_type": "code",
   "execution_count": 13,
   "id": "5ae75064",
   "metadata": {},
   "outputs": [],
   "source": [
    "from selenium import webdriver\n",
    "from selenium.webdriver.chrome.service import Service\n",
    "import pandas as pd\n",
    "import time"
   ]
  },
  {
   "cell_type": "code",
   "execution_count": 17,
   "id": "4e7dd4aa",
   "metadata": {
    "scrolled": true
   },
   "outputs": [],
   "source": [
    "path = 'C:/Program Files (x86)/chromedriver.exe'\n",
    "service = Service(executable_path=path)\n",
    "driver = webdriver.Chrome(service=service)\n",
    "web = 'https://en.wikipedia.org/wiki/1982_FIFA_World_Cup'\n",
    "\n",
    "driver.get(web)\n",
    "\n",
    "matches = driver.find_elements(by = 'xpath', value='//td[@align=\"right\"]/..')\n",
    "\n",
    "home = []\n",
    "score = []\n",
    "away = []\n",
    "\n",
    "for match in matches:\n",
    "    home.append(match.find_element(by='xpath', value='./td[1]').text)\n",
    "    score.append(match.find_element(by='xpath', value='./td[2]').text)\n",
    "    away.append(match.find_element(by='xpath', value='./td[3]').text)\n",
    "    \n",
    "dict_football = {'home': home, 'score': score, 'away': away}\n",
    "df_football = pd.DataFrame(dict_football)\n",
    "df_football['year'] = 1982\n",
    "time.sleep(2)\n",
    "df_football.to_csv('test_1982.csv')\n",
    "\n",
    "driver.quit()"
   ]
  },
  {
   "cell_type": "code",
   "execution_count": null,
   "id": "6871c272",
   "metadata": {},
   "outputs": [],
   "source": []
  }
 ],
 "metadata": {
  "kernelspec": {
   "display_name": "Python 3 (ipykernel)",
   "language": "python",
   "name": "python3"
  },
  "language_info": {
   "codemirror_mode": {
    "name": "ipython",
    "version": 3
   },
   "file_extension": ".py",
   "mimetype": "text/x-python",
   "name": "python",
   "nbconvert_exporter": "python",
   "pygments_lexer": "ipython3",
   "version": "3.9.12"
  }
 },
 "nbformat": 4,
 "nbformat_minor": 5
}
